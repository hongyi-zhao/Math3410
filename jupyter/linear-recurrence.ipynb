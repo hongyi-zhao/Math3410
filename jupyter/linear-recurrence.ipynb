{
 "cells": [
  {
   "cell_type": "markdown",
   "metadata": {
    "hidden": false,
    "slideshow": {
     "slide_type": "slide"
    }
   },
   "source": [
    "# Math 3410\n",
    "## Linear Recurrences\n",
    "\n",
    "### 6th March, 2020\n",
    "\n",
    "Possibly useful resource: [Nicholson's Linear Algebra with Applications](https://lila1.lyryx.com/textbooks/OPEN_LAWA_1/marketing/Nicholson-OpenLAWA-2019A.pdf)\n",
    "\n"
   ]
  },
  {
   "cell_type": "markdown",
   "metadata": {
    "hidden": false,
    "slideshow": {
     "slide_type": "subslide"
    }
   },
   "source": [
    "## What's a linear recurrence?\n",
    "\n",
    "A *linear recurrence* of length $k$ is a sequence $[x_n)$ that is recursively defined, with successive terms in the sequence defined in terms of the previous $k$ terms, via a linear recursion formula of the form\n",
    "\n",
    "$$x_{n+k} = a_0x_k + a_1x_{k+1}+\\cdots + a_{k-1}x_{n+k-1}.$$\n",
    "\n",
    "(Here we assume $a_0\\neq 0$ to guarantee length $k$.)\n",
    "\n",
    "*Caution*: rumour has it you have one or more bonus assignments in which the terms of the sequence (which I denote $x_n$) are denoted $a_n$, and the coefficients in the recursion relation (which I denote by $a_i$) are denoted by $-p_j$."
   ]
  },
  {
   "cell_type": "markdown",
   "metadata": {
    "hidden": false,
    "slideshow": {
     "slide_type": "subslide"
    }
   },
   "source": [
    "## Where does linear algebra come in?\n",
    "\n",
    "The set of all sequences is often denoted by $\\mathbb{R}^\\infty$.\n",
    "\n",
    "Any linear recursion defines a subspace $V$ of $\\mathbb{R}^\\infty$.\n",
    "\n",
    "(Can you prove this? Should we pause and find out?)\n",
    "\n",
    "Let $V$ be such a subspace, defined by a linear recursion of length $k$.\n",
    "\n",
    "Since each sequence in $V$ is determined by the $k$ initial conditions $x_0, x_1, \\ldots, x_{k-1}$, we see that $V$ is **isomorphic** to $\\mathbb{R}^k$, via the map\n",
    "$$S([x_n)) = (x_0,x_1,\\ldots, x_{k-1}).$$\n",
    "\n",
    "(Is this an isomorphism? Is it bijective? Is it even linear?)\n",
    "\n",
    "*Possibly more useful*: the inverse $T:\\mathbb{R}^k\\to V$. Why? (Think basis.)"
   ]
  },
  {
   "cell_type": "markdown",
   "metadata": {
    "hidden": false,
    "slideshow": {
     "slide_type": "subslide"
    }
   },
   "source": [
    "## What's the point?\n",
    "\n",
    "The goal of this discussion is to understand how to obtain *closed form* expressions for a recursively defined sequence using linear algebra. \n",
    "\n",
    "So rather than having to generate terms of the sequence one-by-one using the recursion formula, we want a function $f(n)$ so that $f(n)=x_n$.\n",
    "\n",
    "Since we know the dimension of the space $V$ of solutions, it suffices to understand two things:\n",
    "\n",
    "- How to produce a basis for $V$.\n",
    "- How to write a given solution in terms of that basis.\n"
   ]
  },
  {
   "cell_type": "markdown",
   "metadata": {
    "hidden": false,
    "slideshow": {
     "slide_type": "subslide"
    }
   },
   "source": [
    "## Example\n",
    "\n",
    "Consider the sequences:\n",
    "1. $[1) = (1,1,1,1,\\ldots)$\n",
    "2. $[n) = (0,1,2,3,\\ldots)$\n",
    "3. $[(-1)^n) = (1,-1,1,-1,\\ldots)$\n",
    "\n",
    "Show that all three sequences satisfy the relation\n",
    "$$x_{n+3} = -x_n+x_{n+1}+x_{n+2}$$\n",
    "\n",
    "Then find the solution satisfying the intial conditions $x_0=1, x_1=2, x_2=5$."
   ]
  },
  {
   "cell_type": "code",
   "execution_count": null,
   "metadata": {
    "hidden": false,
    "slideshow": {
     "slide_type": "fragment"
    }
   },
   "outputs": [],
   "source": []
  },
  {
   "cell_type": "markdown",
   "metadata": {
    "hidden": false,
    "slideshow": {
     "slide_type": "slide"
    }
   },
   "source": [
    "## The associated polynomial\n",
    "\n",
    "\n",
    "The key observation is that for each recusion relation, there is an associated polynomial. For the recursion\n",
    "\n",
    "$$x_{n+k} = a_0x_k + a_1x_{k+1}+\\cdots + a_{k-1}x_{n+k-1},$$\n",
    "\n",
    "we look for sequences of the form $[\\lambda^n)$ that satisfy them. (Power sequences)\n",
    "\n",
    "So\n",
    "\n",
    "$$\\lambda^{k+n} = a_0\\lambda^k+a_1\\lambda^{k+1}+\\cdots + a_{k-1}\\lambda^{n-k+1}.$$\n",
    "\n",
    "Factoring out $\\lambda^k$, either $\\lambda=0$, or $\\lambda$ is a root of \n",
    "the associated polynomial\n",
    "\n",
    "$$p(x) = x^k - a_{k-1}x^{k-1}-\\cdots -a_1x-a_0.$$\n"
   ]
  },
  {
   "cell_type": "markdown",
   "metadata": {
    "hidden": false,
    "slideshow": {
     "slide_type": "subslide"
    }
   },
   "source": [
    "## The case of distinct roots\n",
    "\n",
    "If $p(x) = x^k - a_{k-1}x^{k-1}-\\cdots -a_1x-a_0$ has $k$ distinct real roots $\\lambda_1,\\ldots, \\lambda^k$, then a basis for the vector space $V$ of sequences satisfying $x_{n+k}=a_0x_k+a_1x_{k+1}+\\cdots + a_{k-1}x_{n+k-1}$ is\n",
    "$$\\{[\\lambda_1^n), [\\lambda_2^n),\\ldots, [\\lambda_k^n)\\}.$$\n",
    "\n",
    "**Note:** linear independence of the above basis follows from the fact that for $\\lambda_i$ distinct,\n",
    "$$\\begin{bmatrix}\n",
    "1&\\lambda_1&\\lambda_1^2&\\cdots &\\lambda_1^{k-1}\\\\\n",
    "1&\\lambda_2&\\lambda_2^2&\\cdots &\\lambda_2^{k-1}\\\\\n",
    "\\vdots & \\vdots & \\vdots & \\ddots & \\vdots\\\\\n",
    "1&\\lambda_k&\\lambda_k^2&\\cdots &\\lambda_k^{k-1}\\end{bmatrix}$$\n",
    "\n",
    "is a [*Vandermonde matrix*](https://en.wikipedia.org/wiki/Vandermonde_matrix) -- its determinant is\n",
    "$$\\prod_{1\\leq i<j\\leq k}(\\lambda_i-\\lambda_j).$$"
   ]
  },
  {
   "cell_type": "markdown",
   "metadata": {
    "hidden": false,
    "slideshow": {
     "slide_type": "subslide"
    }
   },
   "source": [
    "## Example\n",
    "\n",
    "Solve the linear recursion $x_{n+2} = 2x_n+x_{n+1}$, if $x_0=5$ and $x_1=-2$.\n",
    "\n",
    "*Hint*: the associated polynomial is $p(x) = x^2-x-2$."
   ]
  },
  {
   "cell_type": "markdown",
   "metadata": {
    "hidden": false,
    "slideshow": {
     "slide_type": "subslide"
    }
   },
   "source": [
    "## Repeated roots\n",
    "\n",
    "If we can factor $p(x)$ completely over the reals as\n",
    "\n",
    "$$p(x) = (x-\\lambda_1)^{m_1}(x-\\lambda_2)^{m_2}\\cdots (x-\\lambda_p)^{m_p},$$\n",
    "\n",
    "then a basis for the space of solutions is given by\n",
    "\n",
    "$$\\begin{aligned}\n",
    "\\left[\\lambda_1^n\\right), & \\left[n\\lambda_1^n\\right),\\ldots, \\left[n^{m_1-1}\\lambda_1^n\\right)\\\\\n",
    "\\left[\\lambda_2^n\\right), & \\left[n\\lambda_2^n\\right),\\ldots, \\left[n^{m_2-1}\\lambda_2^n\\right)\\\\\n",
    "& \\vdots \\\\\n",
    "\\left[\\lambda_p^n\\right), & \\left[n\\lambda_p^n\\right),\\ldots, \\left[n^{m_p-1}\\lambda_p^n\\right)\\\\\n",
    "\\end{aligned}$$\n",
    "\n",
    "Once we have a basis, we can apply given coefficients to determine how to write a particular sequence as a linear combination of the basis vectors."
   ]
  },
  {
   "cell_type": "markdown",
   "metadata": {
    "hidden": false,
    "slideshow": {
     "slide_type": "slide"
    }
   },
   "source": [
    "## Problem 1\n",
    "\n",
    "Find a basis for the space $V$ of sequences $[x_n)$ satisfying the recurrence\n",
    "$$x_{n+3} = -2x_n+x_{n+1}+2x_{n+2}.$$\n",
    "\n",
    "Then find a formula for the sequence satisfying the initial conditions $x_0=1, x_1=2, x_2=1$."
   ]
  },
  {
   "cell_type": "markdown",
   "metadata": {
    "hidden": false,
    "slideshow": {
     "slide_type": "fragment"
    }
   },
   "source": [
    "We'll use Python to assist with some of the calculations; our first step is to load the SymPy library."
   ]
  },
  {
   "cell_type": "code",
   "execution_count": null,
   "metadata": {
    "hidden": false,
    "slideshow": {
     "slide_type": "fragment"
    }
   },
   "outputs": [],
   "source": [
    "from sympy import *\n",
    "x = symbols('x')\n",
    "init_printing()"
   ]
  },
  {
   "cell_type": "markdown",
   "metadata": {
    "hidden": false,
    "slideshow": {
     "slide_type": "subslide"
    }
   },
   "source": [
    "The associated polynomial for this recurrence is\n",
    "$$p(x) = x^3-2x^2-x+2.$$\n",
    "\n",
    "First, we factor the polynomial."
   ]
  },
  {
   "cell_type": "code",
   "execution_count": null,
   "metadata": {
    "hidden": false,
    "slideshow": {
     "slide_type": "fragment"
    }
   },
   "outputs": [],
   "source": [
    "factor(x**3-2*x**2-x+2)"
   ]
  },
  {
   "cell_type": "markdown",
   "metadata": {
    "hidden": false,
    "slideshow": {
     "slide_type": "subslide"
    }
   },
   "source": [
    "Our roots are $\\lambda_1=-1, \\lambda_2=1$, and $\\lambda_3=2$. Thus, a basis for the space $V$ of solutions to the recurrence is\n",
    "\n",
    "$$B = \\{[(-1)^n),[1), [2^n)\\}.$$\n",
    "\n",
    "It's useful (but not absolutely necessary) to confirm that our theory holds up in this example, by checking that each basis vector does indeed satisfy the recusion. We have \n",
    "$$-2(-1)^n+(-1)^{n+1}+2(-1)^{n+2} = (-1)^{n+1}=(-1)^{n+3},$$\n",
    "(note that $(-1)^{n+2}=(-1)^n(-1)^2 = (-1)^n$),\n",
    "$$-2(1)+1+2(1)=1,$$\n",
    "and\n",
    "$$-2(2^n)+2^{n+1}+2(2^{n+2}) = 2^n(8+2-2)=2^n(8)=2^{n+3}.$$"
   ]
  },
  {
   "cell_type": "markdown",
   "metadata": {
    "hidden": false,
    "slideshow": {
     "slide_type": "subslide"
    }
   },
   "source": [
    "\n",
    "We now wish to find scalars $$c_1, c_2, c_3$$ such that\n",
    "\n",
    "$$[x_n) = c_1[(-1)^n)+c_2[1)+c_3[2^n).$$\n",
    "\n",
    "Putting $n=0$ gives us $x_0=1 = c_1+c_2+c_3$.\n",
    "\n",
    "Putting $n=1$ gives us $x_1 = 2 = -c_1+c_2+2c_3$.\n",
    "\n",
    "Putting $n=2$ gives us $x_2 = 1 = c_1+c_2+4c_3$.\n",
    "\n",
    "This leaves us with a system of equations to solve. In matrix form, our system is\n",
    "\n",
    "$$\\begin{bmatrix}1&1&1\\\\-1&1&2\\\\1&1&4\\end{bmatrix}\\begin{bmatrix}c_1\\\\c_2\\\\c_3\\end{bmatrix} = \\begin{bmatrix}1\\\\2\\\\1\\end{bmatrix}.$$\n",
    "\n"
   ]
  },
  {
   "cell_type": "markdown",
   "metadata": {
    "hidden": false,
    "slideshow": {
     "slide_type": "subslide"
    }
   },
   "source": [
    "There is an alternative method for arriving at this system. As noted in the textbook, we have an isomorphism $T:\\mathbb{R}^3\\to V$ where $T(a,b,c)$ is the sequence $[x_n)$ with initial conditions $x_0=a, x_1=b, x_2=c$.\n",
    "\n",
    "In terms of the isomorphism $T$, we have $[(-1)^n) = T(1,-1,1)$, $[1) = T(1,1,1)$, and $[2^n)=T(1,2,4)$. The desired sequence for the given initial conditions $x_0=1, x_1=2, x_2=1$ is therefore $T(1,2,1)$, and solving the equation\n",
    "\n",
    "$$c_1T(1,-1,1)+c_2T(1,1,1)+c_3T(1,2,4) = T(1,2,1)$$\n",
    "\n",
    "is equivalent to solving the system\n",
    "\n",
    "$$c_1(1,-1,1)+c_2(1,1,1)+c_3(1,2,4) = (1,2,1),$$\n",
    "\n",
    "which is a simple system of three equations in three unknowns, and of course, it yields the same matrix equation as the one given above.\n"
   ]
  },
  {
   "cell_type": "markdown",
   "metadata": {
    "hidden": false,
    "slideshow": {
     "slide_type": "subslide"
    }
   },
   "source": [
    "\n",
    "Again, we use the computer to help find the solution. First, we input the matrices and check that we did it correctly."
   ]
  },
  {
   "cell_type": "code",
   "execution_count": null,
   "metadata": {
    "hidden": false,
    "slideshow": {
     "slide_type": "fragment"
    }
   },
   "outputs": [],
   "source": [
    "A = Matrix(3,3,[1,1,1,-1,1,2,1,1,4])\n",
    "B = Matrix([1,2,1])\n",
    "A,B"
   ]
  },
  {
   "cell_type": "markdown",
   "metadata": {
    "hidden": false,
    "slideshow": {
     "slide_type": "fragment"
    }
   },
   "source": [
    "Next, we find the solution, using the fact that the solution to $AX=B$ is $X=A^{-1}B$, as long as $A$ is invertible."
   ]
  },
  {
   "cell_type": "code",
   "execution_count": null,
   "metadata": {
    "hidden": false,
    "slideshow": {
     "slide_type": "fragment"
    }
   },
   "outputs": [],
   "source": [
    "X = A**-1*B\n",
    "X"
   ]
  },
  {
   "cell_type": "markdown",
   "metadata": {
    "hidden": false,
    "slideshow": {
     "slide_type": "subslide"
    }
   },
   "source": [
    "Thus, we have $c_1=-\\frac12$, $c_2=\\frac32$, $c_3=0$, and our solution is\n",
    "\n",
    "$$x_n = -\\frac12(-1)^n+\\frac32.$$"
   ]
  },
  {
   "cell_type": "markdown",
   "metadata": {
    "hidden": false,
    "slideshow": {
     "slide_type": "slide"
    }
   },
   "source": [
    "## Problem 2\n",
    "\n",
    "Find a basis for the space $V$ of sequences $[x_n)$ satisfying the recurrence\n",
    "$$x_{n+3} = -4x_n+3x_{n+2}.$$\n",
    "\n",
    "Then find a formula for the sequence satisfying the initial conditions $x_0=1, x_1=-1, x_2=1$."
   ]
  },
  {
   "cell_type": "markdown",
   "metadata": {
    "hidden": false,
    "slideshow": {
     "slide_type": "subslide"
    }
   },
   "source": [
    "This time our associated polynomial is\n",
    "$$p(x) = x^3-3x^2+4.$$\n",
    "Factoring, we have:"
   ]
  },
  {
   "cell_type": "code",
   "execution_count": null,
   "metadata": {
    "hidden": false,
    "slideshow": {
     "slide_type": "fragment"
    }
   },
   "outputs": [],
   "source": [
    "factor(x**3-3*x**2+4)"
   ]
  },
  {
   "cell_type": "markdown",
   "metadata": {
    "hidden": false,
    "slideshow": {
     "slide_type": "subslide"
    }
   },
   "source": [
    "This time, there's a repeated root. Our Theorem tells us that a basis for the space of solutions must be:\n",
    "\n",
    "$$B = \\{[(-1)^n), [2^n), [n2^n)\\}.$$\n",
    "\n",
    "Our general solution must be of the form \n",
    "\n",
    "$$[x_n) = c_1[(-1)^n)+c_2[2^n)+c_3[n2^n)=c_1T(1,-1,1)+c_2T(1,2,4)+c_3T(0,2,8).$$ \n",
    "\n",
    "Our intitial conditions are $x_0=1, x_1=-1, x_2=1$, corresponding to the sequence $[x_n)=T(1,-1,1)$.\n",
    "\n",
    "This time we don't even need the help of the computer: $T(1,-1,1)$ is already one of our basis vectors! Thus, we must have $c_1=1, c_2=0, c_3=0$, and $x_n=(-1)^n$.\n",
    "\n"
   ]
  },
  {
   "cell_type": "markdown",
   "metadata": {
    "hidden": false,
    "slideshow": {
     "slide_type": "slide"
    }
   },
   "source": [
    "## Problem 3\n",
    "\n",
    "Find a basis for the space $V$ of sequences $[x_n)$ satisfying the recurrence\n",
    "$$x_{n+3} = 8x_n-12x_{n+1}+6x_{n+2}.$$\n",
    "\n",
    "Then find a formula for the sequence satisfying the initial conditions $x_0=1, x_1=-1, x_2=1$."
   ]
  },
  {
   "cell_type": "markdown",
   "metadata": {
    "hidden": false,
    "slideshow": {
     "slide_type": "subslide"
    }
   },
   "source": [
    "Our associated polynomial is $p(x)=x^3-6x^2+12x-8$, which factors as"
   ]
  },
  {
   "cell_type": "code",
   "execution_count": null,
   "metadata": {
    "hidden": false,
    "slideshow": {
     "slide_type": "fragment"
    }
   },
   "outputs": [],
   "source": [
    "factor(x**3-6*x**2+12*x-8)"
   ]
  },
  {
   "cell_type": "markdown",
   "metadata": {
    "hidden": false,
    "slideshow": {
     "slide_type": "fragment"
    }
   },
   "source": [
    "This time, we have a single root, repeated three times. Our basis for the space of solutions is therefore\n",
    "\n",
    "$$B=\\{[2^n), [n2^n), [n^22^n)\\} = \\{T(1,2,4), T(0,2,8), T(0,2,16)\\}.$$"
   ]
  },
  {
   "cell_type": "markdown",
   "metadata": {
    "hidden": false,
    "slideshow": {
     "slide_type": "subslide"
    }
   },
   "source": [
    "We want to find scalars $c_1,c_2,c_3$ so that\n",
    "$$T(1,-1,1) = c_1T(1,2,4)+c_2T(0,2,8)+c_3T(0,2,16).$$\n",
    "\n",
    "Our system is\n",
    "$$\\begin{bmatrix}1&0&0\\\\2&2&2\\\\4&8&16\\end{bmatrix}\\begin{bmatrix}c_1\\\\c_2\\\\c_3\\end{bmatrix}=\\begin{bmatrix}1\\\\-1\\\\1\\end{bmatrix}.$$\n"
   ]
  },
  {
   "cell_type": "markdown",
   "metadata": {
    "hidden": false,
    "slideshow": {
     "slide_type": "subslide"
    }
   },
   "source": [
    "\n",
    "Solving, we have"
   ]
  },
  {
   "cell_type": "code",
   "execution_count": null,
   "metadata": {
    "hidden": false,
    "slideshow": {
     "slide_type": "fragment"
    }
   },
   "outputs": [],
   "source": [
    "A2=Matrix(3,3,[1,0,0,2,2,2,4,8,16])\n",
    "B2=Matrix([1,-1,1])\n",
    "A2,B2"
   ]
  },
  {
   "cell_type": "code",
   "execution_count": null,
   "metadata": {
    "hidden": false,
    "slideshow": {
     "slide_type": "fragment"
    }
   },
   "outputs": [],
   "source": [
    "X2=A2**-1*B2\n",
    "X2"
   ]
  },
  {
   "cell_type": "markdown",
   "metadata": {
    "hidden": false,
    "slideshow": {
     "slide_type": "fragment"
    }
   },
   "source": [
    "Thus, we must have $c_1=1, c_2=-\\frac{21}{8}$, and $c_3=\\frac98$, giving us the sequence\n",
    "\n",
    "$$x_n = 2^n-\\frac{21}{8}n2^n+\\frac98n^22^n.$$"
   ]
  },
  {
   "cell_type": "markdown",
   "metadata": {
    "hidden": false,
    "slideshow": {
     "slide_type": "subslide"
    }
   },
   "source": [
    "By the way, you didn't have to check, but again, it might be interesting to confirm that our basis vectors really do work. We have\n",
    "$$8\\cdot 2^n-12\\cdot 2^{n+1}+6\\cdot 2^{n+2}  = 2^n(8-24+24) = 2^{n+3}$$\n",
    "\n",
    "$$\\begin{aligned}\n",
    "8n 2^n -12(n+1) 2^{n+1} +6(n+2) 2^{n+2} & = 8n2^n-24n2^n -24+24n 2^n +48\\\\\n",
    "& = 8n 2^n +24\\\\\n",
    "& = (n+3)2^{n+3}\n",
    "\\end{aligned}$$\n",
    "\n",
    "$$\\begin{aligned}\n",
    "8n^22^n-12(n+1)^22^{n+1}+6(n+2)^22^{n+2} & = 8n^22^{n}-24(n^2+2n+1)2^n+24(n^2+4n+4)2^n\\\\\n",
    "& = 2^n(8n^2-24n^2-48n-24+24n^2+96n+96)\\\\\n",
    "& = 2^n(8n^2+48n+72)\\\\\n",
    "& = 2^{n}2^{3}(n^2+6n+9)\\\\\n",
    "& = (n+3)^22^{n+3}\n",
    "\\end{aligned}$$"
   ]
  },
  {
   "cell_type": "markdown",
   "metadata": {
    "hidden": false,
    "slideshow": {
     "slide_type": "slide"
    }
   },
   "source": [
    "## Problem 4: Fibonacci!\n",
    "\n",
    "Consider the linear recurrence $$x_{n+2}=x_n+x_{n+2}$$.\n",
    "\n",
    "Find a basis for the vector space $V$ of sequences satisfying this recurrence, and then find the sequence satisfying the initial conditions $x_0=0, x_1=1$."
   ]
  },
  {
   "cell_type": "markdown",
   "metadata": {
    "hidden": false,
    "slideshow": {
     "slide_type": "subslide"
    }
   },
   "source": [
    "The associated polynomial is\n",
    "\n",
    "$$p(x) = x^2-x-1 = \\left(x-\\frac{1+\\sqrt{5}}{2}\\right)\\left(x-\\frac{1-\\sqrt{5}}{2}\\right),$$\n",
    "\n",
    "so a basis is given by\n",
    "\n",
    "$$\\left\\{\\left[\\left(\\frac{1+\\sqrt{5}}{2}\\right)^n\\right),\\left[\\left(\\frac{1-\\sqrt{5}}{2}\\right)^n\\right)\\right\\}$$"
   ]
  },
  {
   "cell_type": "markdown",
   "metadata": {
    "hidden": false,
    "slideshow": {
     "slide_type": "subslide"
    }
   },
   "source": [
    "## More Fibonacci Fun\n",
    "\n",
    "We've shown that the Fibonacci sequence \n",
    "$$x_0=0, x_1=1, x_{n+2}=x_n+x_{n+1}$$\n",
    "satisfies\n",
    "$$x_n = \\frac{1}{\\sqrt{5}}\\left[\\left(\\frac{1+\\sqrt{5}}{2}\\right)^n-\\left(\\frac{1-\\sqrt{5}}{2}\\right)^n\\right]$$\n",
    "using linear recurrences. Here's another approach.\n"
   ]
  },
  {
   "cell_type": "markdown",
   "metadata": {
    "hidden": false,
    "slideshow": {
     "slide_type": "subslide"
    }
   },
   "source": [
    "### Problem\n",
    "\n",
    "Define $T:\\mathbb{R}^2\\to\\mathbb{R}^2$ by $T(x,y) = (y,x+y)$.\n",
    "\n",
    "1. Prove that $T^n(0,1) = (x_n,x_{n+1})$ for all $n\\geq 1$.\n",
    "2. Find the eigenvalues of $T$\n",
    "3. Find a basis of $\\mathbb{R}^2$ consisting of eigenvectors of $T$.\n",
    "4. Compute $T^n(0,1)$ using this basis, and confirm our formula for $x_n$."
   ]
  },
  {
   "cell_type": "markdown",
   "metadata": {
    "hidden": false,
    "slideshow": {
     "slide_type": "subslide"
    }
   },
   "source": [
    "### Solution\n",
    "\n",
    "Oh, am I out of time? (No? `stalls` ... `ducks and runs`)\n",
    "\n",
    "I have solutions I'm willing to share via Andrew if he approves it."
   ]
  }
 ],
 "metadata": {
  "celltoolbar": "Slideshow",
  "kernelspec": {
   "display_name": "Python 3",
   "language": "python",
   "name": "python3"
  },
  "language_info": {
   "codemirror_mode": {
    "name": "ipython",
    "version": 3
   },
   "file_extension": ".py",
   "mimetype": "text/x-python",
   "name": "python",
   "nbconvert_exporter": "python",
   "pygments_lexer": "ipython3",
   "version": "3.7.3"
  }
 },
 "nbformat": 4,
 "nbformat_minor": 2
}
