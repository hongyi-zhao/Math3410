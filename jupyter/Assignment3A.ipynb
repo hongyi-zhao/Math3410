{
 "cells": [
  {
   "cell_type": "markdown",
   "metadata": {
    "hidden": false
   },
   "source": [
    "# Math 3410 Assignment 3A\n",
    "## Linear Recurrences\n",
    "\n",
    "A *linear recurrence* of length $k$ is a sequence $[x_n)$ that is recursively defined, with successive terms in the sequence defined in terms of the previous $k$ terms, via a linear recursion formula of the form\n",
    "\n",
    "$$x_{n+k} = a_0x_k + a_1x_{k+1}+\\cdots + a_{k-1}x_{n+k-1}.$$\n",
    "\n",
    "(Here we assume $a_0\\neq 0$ to have the appropriate length.)\n",
    "\n",
    "As demonstrated in the textbook, the set of all sequences satisfying a linear recursion of length $k$ form a subspace $V$ of the vector space $\\mathbb{R}^\\infty$ of all real-valued sequences. Since each sequence is determined by the $k$ initial conditions $x_0, x_1, \\ldots, x_{k-1}$, we see that $V$ is isomorphic to $\\mathbb{R}^k$.\n",
    "\n",
    "The goal of this assignment is to understand how to obtain *closed form* expressions for a recursively defined sequence using linear algebra. That is, rather than having to generate terms of the sequence one-by-one using the recursion formula, we want a function of $n$ that will produce each term $x_n$ in the sequence.\n",
    "\n",
    "Since we know the dimension of the space $V$ of solutions, it suffices to understand two things:\n",
    "\n",
    "- How to produce a basis for $V$.\n",
    "- How to write a given solution in terms of that basis.\n",
    "\n",
    "The key observation is that for each recusion relation, there is an associated polynomial. For the recursion\n",
    "\n",
    "$$x_{n+k} = a_0x_k + a_1x_{k+1}+\\cdots + a_{k-1}x_{n+k-1},$$\n",
    "\n",
    "the associated polynomial is\n",
    "\n",
    "$$p(x) = x^k - a_{k-1}x^{k-1}-\\cdots -a_1x-a_0.$$\n",
    "\n",
    "The key result is Theorem 7.5.4. If we can factor $$p(x)$$ completely over the reals as\n",
    "\n",
    "$$p(x) = (x-\\lambda_1)^{m_1}(x-\\lambda_2)^{m_2}\\cdots (x-\\lambda_p)^{m_p},$$\n",
    "\n",
    "then a basis for the space of solutions is given by\n",
    "\n",
    "$$\\begin{aligned}\n",
    "\\left[\\lambda_1^n\\right), & \\left[n\\lambda_1^n\\right),\\ldots, \\left[n^{m_1-1}\\lambda_1^n\\right)\\\\\n",
    "\\left[\\lambda_2^n\\right), & \\left[n\\lambda_2^n\\right),\\ldots, \\left[n^{m_2-1}\\lambda_2^n\\right)\\\\\n",
    "& \\vdots \\\\\n",
    "\\left[\\lambda_p^n\\right), & \\left[n\\lambda_p^n\\right),\\ldots, \\left[n^{m_p-1}\\lambda_p^n\\right)\\\\\n",
    "\\end{aligned}$$\n",
    "\n",
    "Once we have a basis, we can apply given coefficients to determine how to write a particular sequence as a linear combination of the basis vectors."
   ]
  },
  {
   "cell_type": "markdown",
   "metadata": {
    "hidden": false
   },
   "source": [
    "## Problem 1\n",
    "\n",
    "Find a basis for the space $V$ of sequences $[x_n)$ satisfying the recurrence\n",
    "$$x_{n+3} = -2x_n+x_{n+1}+2x_{n+2}.$$\n",
    "\n",
    "Then find a formula for the sequence satisfying the initial conditions $x_0=1, x_1=2, x_2=1$."
   ]
  },
  {
   "cell_type": "markdown",
   "metadata": {
    "hidden": false
   },
   "source": [
    "We'll use Python to assist with some of the calculations; our first step is to load the SymPy library."
   ]
  },
  {
   "cell_type": "code",
   "execution_count": 1,
   "metadata": {
    "hidden": false
   },
   "outputs": [],
   "source": [
    "from sympy import *\n",
    "x = symbols('x')\n",
    "init_printing()"
   ]
  },
  {
   "cell_type": "markdown",
   "metadata": {
    "hidden": false
   },
   "source": [
    "The associated polynomial for this recurrence is\n",
    "$$p(x) = x^3-2x^2-x+2.$$\n",
    "\n",
    "First, we factor the polynomial."
   ]
  },
  {
   "cell_type": "code",
   "execution_count": 2,
   "metadata": {
    "hidden": false
   },
   "outputs": [
    {
     "data": {
      "image/png": "[encoded data removed]",
      "text/latex": [
       "$\\displaystyle \\left(x - 2\\right) \\left(x - 1\\right) \\left(x + 1\\right)$"
      ],
      "text/plain": [
       "(x - 2)⋅(x - 1)⋅(x + 1)"
      ]
     },
     "execution_count": 2,
     "metadata": {},
     "output_type": "execute_result"
    }
   ],
   "source": [
    "factor(x**3-2*x**2-x+2)"
   ]
  },
  {
   "cell_type": "markdown",
   "metadata": {
    "hidden": false
   },
   "source": [
    "Our roots are $\\lambda_1=-1, \\lambda_2=1$, and $\\lambda_3=2$. Thus, a basis for the space $V$ of solutions to the recurrence is\n",
    "\n",
    "$$B = \\{[(-1)^n),[1), [2^n)\\}.$$\n",
    "\n",
    "It's useful (but not absolutely necessary) to confirm that our theory holds up in this example, by checking that each basis vector does indeed satisfy the recusion. We have \n",
    "$$-2(-1)^n+(-1)^{n+1}+2(-1)^{n+2} = (-1)^{n+1}=(-1)^{n+3},$$\n",
    "(note that $(-1)^{n+2}=(-1)^n(-1)^2 = (-1)^n$),\n",
    "$$-2(1)+1+2(1)=1,$$\n",
    "and\n",
    "$$-2(2^n)+2^{n+1}+2(2^{n+2}) = 2^n(8+2-2)=2^n(8)=2^{n+3}.$$\n",
    "\n",
    "We now wish to find scalars $$c_1, c_2, c_3$$ such that\n",
    "\n",
    "$$[x_n) = c_1[(-1)^n)+c_2[1)+c_3[2^n).$$\n",
    "\n",
    "Putting $n=0$ gives us $x_0=1 = c_1+c_2+c_3$.\n",
    "\n",
    "Putting $n=1$ gives us $x_1 = 2 = -c_1+c_2+2c_3$.\n",
    "\n",
    "Putting $n=2$ gives us $x_2 = 1 = c_1+c_2+4c_3$.\n",
    "\n",
    "This leaves us with a system of equations to solve. In matrix form, our system is\n",
    "\n",
    "$$\\begin{bmatrix}1&1&1\\\\-1&1&2\\\\1&1&4\\end{bmatrix}\\begin{bmatrix}c_1\\\\c_2\\\\c_3\\end{bmatrix} = \\begin{bmatrix}1\\\\2\\\\1\\end{bmatrix}.$$\n",
    "\n",
    "There is an alternative method for arriving at this system. As noted in the textbook, we have an isomorphism $T:\\mathbb{R}^3\\to V$ where $T(a,b,c)$ is the sequence $[x_n)$ with initial conditions $x_0=a, x_1=b, x_2=c$.\n",
    "\n",
    "In terms of the isomorphism $T$, we have $[(-1)^n) = T(1,-1,1)$, $[1) = T(1,1,1)$, and $[2^n)=T(1,2,4)$. The desired sequence for the given initial conditions $x_0=1, x_1=2, x_2=1$ is therefore $T(1,2,1)$, and solving the equation\n",
    "\n",
    "$$c_1T(1,-1,1)+c_2T(1,1,1)+c_3T(1,2,4) = T(1,2,1)$$\n",
    "\n",
    "is equivalent to solving the system\n",
    "\n",
    "$$c_1(1,-1,1)+c_2(1,1,1)+c_3(1,2,4) = (1,2,1),$$\n",
    "\n",
    "which is a simple system of three equations in three unknowns, and of course, it yields the same matrix equation as the one given above.\n",
    "\n",
    "Again, we use the computer to help find the solution. First, we input the matrices and check that we did it correctly."
   ]
  },
  {
   "cell_type": "code",
   "execution_count": 3,
   "metadata": {
    "hidden": false
   },
   "outputs": [
    {
     "data": {
      "image/png": "[encoded data removed]",
      "text/latex": [
       "$\\displaystyle \\left( \\left[\\begin{matrix}1 & 1 & 1\\\\-1 & 1 & 2\\\\1 & 1 & 4\\end{matrix}\\right], \\  \\left[\\begin{matrix}1\\\\2\\\\1\\end{matrix}\\right]\\right)$"
      ],
      "text/plain": [
       "⎛⎡1   1  1⎤  ⎡1⎤⎞\n",
       "⎜⎢        ⎥  ⎢ ⎥⎟\n",
       "⎜⎢-1  1  2⎥, ⎢2⎥⎟\n",
       "⎜⎢        ⎥  ⎢ ⎥⎟\n",
       "⎝⎣1   1  4⎦  ⎣1⎦⎠"
      ]
     },
     "execution_count": 3,
     "metadata": {},
     "output_type": "execute_result"
    }
   ],
   "source": [
    "A = Matrix(3,3,[1,1,1,-1,1,2,1,1,4])\n",
    "B = Matrix([1,2,1])\n",
    "A,B"
   ]
  },
  {
   "cell_type": "markdown",
   "metadata": {
    "hidden": false
   },
   "source": [
    "Next, we find the solution, using the fact that the solution to $AX=B$ is $X=A^{-1}B$, as long as $A$ is invertible."
   ]
  },
  {
   "cell_type": "code",
   "execution_count": 4,
   "metadata": {
    "hidden": false
   },
   "outputs": [
    {
     "data": {
      "image/png": "[encoded data removed]",
      "text/latex": [
       "$\\displaystyle \\left[\\begin{matrix}- \\frac{1}{2}\\\\\\frac{3}{2}\\\\0\\end{matrix}\\right]$"
      ],
      "text/plain": [
       "⎡-1/2⎤\n",
       "⎢    ⎥\n",
       "⎢3/2 ⎥\n",
       "⎢    ⎥\n",
       "⎣ 0  ⎦"
      ]
     },
     "execution_count": 4,
     "metadata": {},
     "output_type": "execute_result"
    }
   ],
   "source": [
    "X = A**-1*B\n",
    "X"
   ]
  },
  {
   "cell_type": "markdown",
   "metadata": {
    "hidden": false
   },
   "source": [
    "Thus, we have $c_1=-\\frac12$, $c_2=\\frac32$, $c_3=0$, and our solution is\n",
    "\n",
    "$$x_n = -\\frac12(-1)^n+\\frac32.$$"
   ]
  },
  {
   "cell_type": "markdown",
   "metadata": {
    "hidden": false
   },
   "source": [
    "## Problem 2\n",
    "\n",
    "Find a basis for the space $V$ of sequences $[x_n)$ satisfying the recurrence\n",
    "$$x_{n+3} = -4x_n+3x_{n+2}.$$\n",
    "\n",
    "Then find a formula for the sequence satisfying the initial conditions $x_0=1, x_1=-1, x_2=1$."
   ]
  },
  {
   "cell_type": "markdown",
   "metadata": {
    "hidden": false
   },
   "source": [
    "This time our associated polynomial is\n",
    "$$p(x) = x^3-3x^2+4.$$\n",
    "Factoring, we have:"
   ]
  },
  {
   "cell_type": "code",
   "execution_count": 5,
   "metadata": {
    "hidden": false
   },
   "outputs": [
    {
     "data": {
      "image/png": "[encoded data removed]",
      "text/latex": [
       "$\\displaystyle \\left(x - 2\\right)^{2} \\left(x + 1\\right)$"
      ],
      "text/plain": [
       "       2        \n",
       "(x - 2) ⋅(x + 1)"
      ]
     },
     "execution_count": 5,
     "metadata": {},
     "output_type": "execute_result"
    }
   ],
   "source": [
    "factor(x**3-3*x**2+4)"
   ]
  },
  {
   "cell_type": "markdown",
   "metadata": {
    "hidden": false
   },
   "source": [
    "This time, there's a repeated root. Our Theorem tells us that a basis for the space of solutions must be:\n",
    "\n",
    "$$B = \\{[(-1)^n), [2^n), [n2^n)\\}.$$\n",
    "\n",
    "Our general solution must be of the form \n",
    "\n",
    "$$[x_n) = c_1[(-1)^n)+c_2[2^n)+c_3[n2^n)=c_1T(1,-1,1)+c_2T(1,2,4)+c_3T(0,2,8).$$ \n",
    "\n",
    "Our intitial conditions are $x_0=1, x_1=-1, x_2=1$, corresponding to the sequence $[x_n)=T(1,-1,1)$.\n",
    "\n",
    "This time we don't even need the help of the computer: $T(1,-1,1)$ is already one of our basis vectors! Thus, we must have $c_1=1, c_2=0, c_3=0$, and $x_n=(-1)^n$.\n",
    "\n"
   ]
  },
  {
   "cell_type": "markdown",
   "metadata": {
    "hidden": false
   },
   "source": [
    "## Problem 3\n",
    "\n",
    "Find a basis for the space $V$ of sequences $[x_n)$ satisfying the recurrence\n",
    "$$x_{n+3} = 8x_n-12x_{n+1}+6x_{n+2}.$$\n",
    "\n",
    "Then find a formula for the sequence satisfying the initial conditions $x_0=1, x_1=-1, x_2=1$."
   ]
  },
  {
   "cell_type": "markdown",
   "metadata": {
    "hidden": false
   },
   "source": [
    "Our associated polynomial is $p(x)=x^3-6x^2+12x-8$, which factors as"
   ]
  },
  {
   "cell_type": "code",
   "execution_count": 6,
   "metadata": {
    "hidden": false
   },
   "outputs": [
    {
     "data": {
      "image/png": "[encoded data removed]",
      "text/latex": [
       "$\\displaystyle \\left(x - 2\\right)^{3}$"
      ],
      "text/plain": [
       "       3\n",
       "(x - 2) "
      ]
     },
     "execution_count": 6,
     "metadata": {},
     "output_type": "execute_result"
    }
   ],
   "source": [
    "factor(x**3-6*x**2+12*x-8)"
   ]
  },
  {
   "cell_type": "markdown",
   "metadata": {
    "hidden": false
   },
   "source": [
    "This time, we have a single root, repeated three times. Our basis for the space of solutions is therefore\n",
    "\n",
    "$$B=\\{[2^n), [n2^n), [n^22^n)\\} = \\{T(1,2,4), T(0,2,8), T(0,2,16)\\}.$$"
   ]
  },
  {
   "cell_type": "markdown",
   "metadata": {
    "hidden": false
   },
   "source": [
    "We want to find scalars $c_1,c_2,c_3$ so that\n",
    "$$T(1,-1,1) = c_1T(1,2,4)+c_2T(0,2,8)+c_3T(0,2,16).$$\n",
    "\n",
    "Our system is\n",
    "$$\\begin{bmatrix}1&0&0\\\\2&2&2\\\\4&8&16\\end{bmatrix}\\begin{bmatrix}c_1\\\\c_2\\\\c_3\\end{bmatrix}=\\begin{bmatrix}1\\\\-1\\\\1\\end{bmatrix}.$$\n",
    "\n",
    "Solving, we have"
   ]
  },
  {
   "cell_type": "code",
   "execution_count": 7,
   "metadata": {
    "hidden": false
   },
   "outputs": [
    {
     "data": {
      "image/png": "[encoded data removed]",
      "text/latex": [
       "$\\displaystyle \\left( \\left[\\begin{matrix}1 & 0 & 0\\\\2 & 2 & 2\\\\4 & 8 & 16\\end{matrix}\\right], \\  \\left[\\begin{matrix}1\\\\-1\\\\1\\end{matrix}\\right]\\right)$"
      ],
      "text/plain": [
       "⎛⎡1  0  0 ⎤  ⎡1 ⎤⎞\n",
       "⎜⎢        ⎥  ⎢  ⎥⎟\n",
       "⎜⎢2  2  2 ⎥, ⎢-1⎥⎟\n",
       "⎜⎢        ⎥  ⎢  ⎥⎟\n",
       "⎝⎣4  8  16⎦  ⎣1 ⎦⎠"
      ]
     },
     "execution_count": 7,
     "metadata": {},
     "output_type": "execute_result"
    }
   ],
   "source": [
    "A2=Matrix(3,3,[1,0,0,2,2,2,4,8,16])\n",
    "B2=Matrix([1,-1,1])\n",
    "A2,B2"
   ]
  },
  {
   "cell_type": "code",
   "execution_count": 8,
   "metadata": {
    "hidden": false
   },
   "outputs": [
    {
     "data": {
      "image/png": "[encoded data removed]",
      "text/latex": [
       "$\\displaystyle \\left[\\begin{matrix}1\\\\- \\frac{21}{8}\\\\\\frac{9}{8}\\end{matrix}\\right]$"
      ],
      "text/plain": [
       "⎡  1  ⎤\n",
       "⎢     ⎥\n",
       "⎢-21/8⎥\n",
       "⎢     ⎥\n",
       "⎣ 9/8 ⎦"
      ]
     },
     "execution_count": 8,
     "metadata": {},
     "output_type": "execute_result"
    }
   ],
   "source": [
    "X2=A2**-1*B2\n",
    "X2"
   ]
  },
  {
   "cell_type": "markdown",
   "metadata": {
    "hidden": false
   },
   "source": [
    "Thus, we must have $c_1=1, c_2=-\\frac{21}{8}$, and $c_3=\\frac98$, giving us the sequence\n",
    "\n",
    "$$x_n = 2^n-\\frac{21}{8}n2^n+\\frac98n^22^n.$$"
   ]
  },
  {
   "cell_type": "markdown",
   "metadata": {
    "hidden": false
   },
   "source": [
    "By the way, you didn't have to check, but again, it might be interesting to confirm that our basis vectors really do work. We have\n",
    "$$8\\cdot 2^n-12\\cdot 2^{n+1}+6\\cdot 2^{n+2}  = 2^n(8-24+24) = 2^{n+3}$$\n",
    "\n",
    "$$\\begin{aligned}\n",
    "8n 2^n -12(n+1) 2^{n+1} +6(n+2) 2^{n+2} & = 8n2^n-24n2^n -24+24n 2^n +48\\\\\n",
    "& = 8n 2^n +24\\\\\n",
    "& = (n+3)2^{n+3}\n",
    "\\end{aligned}$$\n",
    "\n",
    "$$\\begin{aligned}\n",
    "8n^22^n-12(n+1)^22^{n+1}+6(n+2)^22^{n+2} & = 8n^22^{n}-24(n^2+2n+1)2^n+24(n^2+4n+4)2^n\\\\\n",
    "& = 2^n(8n^2-24n^2-48n-24+24n^2+96n+96)\\\\\n",
    "& = 2^n(8n^2+48n+72)\\\\\n",
    "& = 2^{n}2^{3}(n^2+6n+9)\\\\\n",
    "& = (n+3)^22^{n+3}\n",
    "\\end{aligned}$$"
   ]
  },
  {
   "cell_type": "markdown",
   "metadata": {
    "hidden": false
   },
   "source": [
    "## Problem 4\n",
    "\n",
    "Show that the shift operator $S$ is onto but not one-to-one. Find $\\ker S$."
   ]
  },
  {
   "cell_type": "markdown",
   "metadata": {
    "hidden": false
   },
   "source": [
    "To see that $S$ is onto, given any sequence $[y_n) = (y_0,y_1,y_2,y_3,\\ldots)$ in $\\mathbb{R}^\\infty$, let\n",
    "$[x_n)$ be defined by\n",
    "$$[x_n) = (1,y_0,y_1,y_2,\\ldots).$$\n",
    "\n",
    "Then we have $S[x_n)=[y_n)$ as required.\n",
    "\n",
    "Next, we compute $\\ker S$, and in so doing, show that $S$ is not one-to-one. We claim that\n",
    "\n",
    "$$\\ker S = \\{[x_n) | x_0\\in \\mathbb{R} \\text{ and } x_n=0 \\text{ for all } n\\geq 1\\}.$$\n",
    "\n",
    "That is, an element of $\\ker S$ is of the form $(a,0,0,0,\\ldots)$ for some real number $a$.\n",
    "\n",
    "It is clear that any such sequence belongs to $\\ker S$, since $S[x_n) = (x_1,x_2,x_3,\\ldots) = (0,0,0,\\ldots)$.\n",
    "\n",
    "Moreover, if $[x_n)\\in \\ker S$, then\n",
    "\n",
    "$$S[x_n) = S(x_0,x_1,x_2,\\ldots) = (x_1,x_2,x_3,\\dots) = (0,0,0,\\ldots),$$\n",
    "\n",
    "which shows that we must have $x_1=0, x_2=0, x_3=0,\\ldots$, but we are free to assign any value we like to $x_0$."
   ]
  }
 ],
 "metadata": {
  "kernelspec": {
   "display_name": "Python 3",
   "language": "python",
   "name": "python3"
  },
  "language_info": {
   "codemirror_mode": {
    "name": "ipython",
    "version": 3
   },
   "file_extension": ".py",
   "mimetype": "text/x-python",
   "name": "python",
   "nbconvert_exporter": "python",
   "pygments_lexer": "ipython3",
   "version": "3.7.3"
  }
 },
 "nbformat": 4,
 "nbformat_minor": 2
}
